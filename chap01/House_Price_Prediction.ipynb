{
  "nbformat": 4,
  "nbformat_minor": 0,
  "metadata": {
    "colab": {
      "name": "House_Price_Prediction.ipynb",
      "version": "0.3.2",
      "provenance": [],
      "collapsed_sections": [],
      "include_colab_link": true
    },
    "kernelspec": {
      "name": "python3",
      "display_name": "Python 3"
    },
    "accelerator": "GPU"
  },
  "cells": [
    {
      "cell_type": "markdown",
      "metadata": {
        "id": "view-in-github",
        "colab_type": "text"
      },
      "source": [
        "<a href=\"https://colab.research.google.com/github/rangnguyen/deeplearning/blob/master/House_Price_Prediction.ipynb\" target=\"_parent\"><img src=\"https://colab.research.google.com/assets/colab-badge.svg\" alt=\"Open In Colab\"/></a>"
      ]
    },
    {
      "cell_type": "markdown",
      "metadata": {
        "id": "VaOcucqFTX5Y",
        "colab_type": "text"
      },
      "source": [
        "In this exercise you'll try to build a neural network that predicts the price of a house according to a simple formula.\n",
        "\n",
        "So, imagine if house pricing was as easy as a house costs 0.5 bil + 0.5 bil per bedroom, so that a 1 bedroom house costs 1 billion, a 2 bedroom house costs 1.5 billion etc.\n",
        "\n",
        "How would you create a neural network that learns this relationship so that it would predict a 7 bedroom house as costing close to 4 bil etc.\n",
        "\n"
      ]
    },
    {
      "cell_type": "code",
      "metadata": {
        "id": "W4mCx6IzNVbd",
        "colab_type": "code",
        "outputId": "ae834a95-8a0c-42c2-97c8-db2eca622f64",
        "colab": {
          "base_uri": "https://localhost:8080/",
          "height": 739
        }
      },
      "source": [
        "import tensorflow as tf\n",
        "import numpy as np\n",
        "from tensorflow import keras\n",
        "from keras import Sequential\n",
        "from keras.layers import Dense\n",
        "\n",
        "\n",
        "model = Sequential()\n",
        "model.add(Dense(units=100, input_shape=[1,], activation='relu'))\n",
        "model.add(Dense(units=1))\n",
        "\n",
        "model.compile(optimizer='sgd', loss='mean_squared_error')\n",
        "xs = np.array([1.0, 2.0, 3.0, 4.0, 5.0, 6.0], dtype=float)\n",
        "ys = np.array([1.0, 1.49, 2.02, 2.55, 2.95, 3.51], dtype=float)\n",
        "\n",
        "model.fit(xs, ys, epochs=20)\n",
        "print(model.predict([7.0]))\n",
        "\n"
      ],
      "execution_count": 0,
      "outputs": [
        {
          "output_type": "stream",
          "text": [
            "Epoch 1/20\n",
            "6/6 [==============================] - 0s 50ms/step - loss: 5.2669\n",
            "Epoch 2/20\n",
            "6/6 [==============================] - 0s 946us/step - loss: 0.5464\n",
            "Epoch 3/20\n",
            "6/6 [==============================] - 0s 855us/step - loss: 0.0729\n",
            "Epoch 4/20\n",
            "6/6 [==============================] - 0s 479us/step - loss: 0.0311\n",
            "Epoch 5/20\n",
            "6/6 [==============================] - 0s 517us/step - loss: 0.0276\n",
            "Epoch 6/20\n",
            "6/6 [==============================] - 0s 1ms/step - loss: 0.0270\n",
            "Epoch 7/20\n",
            "6/6 [==============================] - 0s 538us/step - loss: 0.0266\n",
            "Epoch 8/20\n",
            "6/6 [==============================] - 0s 489us/step - loss: 0.0262\n",
            "Epoch 9/20\n",
            "6/6 [==============================] - 0s 563us/step - loss: 0.0258\n",
            "Epoch 10/20\n",
            "6/6 [==============================] - 0s 619us/step - loss: 0.0254\n",
            "Epoch 11/20\n",
            "6/6 [==============================] - 0s 575us/step - loss: 0.0250\n",
            "Epoch 12/20\n",
            "6/6 [==============================] - 0s 448us/step - loss: 0.0246\n",
            "Epoch 13/20\n",
            "6/6 [==============================] - 0s 503us/step - loss: 0.0243\n",
            "Epoch 14/20\n",
            "6/6 [==============================] - 0s 451us/step - loss: 0.0239\n",
            "Epoch 15/20\n",
            "6/6 [==============================] - 0s 478us/step - loss: 0.0235\n",
            "Epoch 16/20\n",
            "6/6 [==============================] - 0s 498us/step - loss: 0.0232\n",
            "Epoch 17/20\n",
            "6/6 [==============================] - 0s 359us/step - loss: 0.0228\n",
            "Epoch 18/20\n",
            "6/6 [==============================] - 0s 489us/step - loss: 0.0225\n",
            "Epoch 19/20\n",
            "6/6 [==============================] - 0s 405us/step - loss: 0.0222\n",
            "Epoch 20/20\n",
            "6/6 [==============================] - 0s 500us/step - loss: 0.0218\n",
            "[[4.2065353]]\n"
          ],
          "name": "stdout"
        }
      ]
    }
  ]
}
